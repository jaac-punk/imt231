{
  "cells": [
    {
      "cell_type": "markdown",
      "metadata": {
        "id": "view-in-github",
        "colab_type": "text"
      },
      "source": [
        "<a href=\"https://colab.research.google.com/github/jaac-punk/imt231/blob/main/pythonIntroduccion.ipynb\" target=\"_parent\"><img src=\"https://colab.research.google.com/assets/colab-badge.svg\" alt=\"Open In Colab\"/></a>"
      ]
    },
    {
      "cell_type": "markdown",
      "metadata": {
        "id": "LrFf6wnnCfDC"
      },
      "source": [
        "# Logica de prgramacion en Python"
      ]
    },
    {
      "cell_type": "code",
      "execution_count": null,
      "metadata": {
        "colab": {
          "base_uri": "https://localhost:8080/"
        },
        "id": "YKTq3opnCZBX",
        "outputId": "0f3e9b47-1244-479c-e6a5-cca29beac7f8"
      },
      "outputs": [
        {
          "data": {
            "text/plain": [
              "13"
            ]
          },
          "execution_count": 2,
          "metadata": {},
          "output_type": "execute_result"
        }
      ],
      "source": [
        "5+8"
      ]
    },
    {
      "cell_type": "code",
      "execution_count": null,
      "metadata": {
        "colab": {
          "base_uri": "https://localhost:8080/",
          "height": 139
        },
        "id": "Ih_AuZqXDGb3",
        "outputId": "b6bcacfa-f47e-458f-b4f1-daf762277d99"
      },
      "outputs": [
        {
          "ename": "NameError",
          "evalue": "name 'JAAC' is not defined",
          "output_type": "error",
          "traceback": [
            "\u001b[0;31m---------------------------------------------------------------------------\u001b[0m",
            "\u001b[0;31mNameError\u001b[0m                                 Traceback (most recent call last)",
            "\u001b[0;32m<ipython-input-5-503816d34df5>\u001b[0m in \u001b[0;36m<cell line: 1>\u001b[0;34m()\u001b[0m\n\u001b[0;32m----> 1\u001b[0;31m \u001b[0mJAAC\u001b[0m\u001b[0;34m\u001b[0m\u001b[0;34m\u001b[0m\u001b[0m\n\u001b[0m",
            "\u001b[0;31mNameError\u001b[0m: name 'JAAC' is not defined"
          ]
        }
      ],
      "source": [
        "JAAC"
      ]
    },
    {
      "cell_type": "code",
      "execution_count": null,
      "metadata": {
        "colab": {
          "base_uri": "https://localhost:8080/",
          "height": 35
        },
        "id": "wkCNqW6kDp9B",
        "outputId": "a0874394-2faa-41ad-fc1a-92c16b30935e"
      },
      "outputs": [
        {
          "data": {
            "application/vnd.google.colaboratory.intrinsic+json": {
              "type": "string"
            },
            "text/plain": [
              "'Jack'"
            ]
          },
          "execution_count": 6,
          "metadata": {},
          "output_type": "execute_result"
        }
      ],
      "source": [
        "'Jack'"
      ]
    },
    {
      "cell_type": "code",
      "execution_count": null,
      "metadata": {
        "id": "OeOEf50wD7o9"
      },
      "outputs": [],
      "source": [
        "nombre = 'Marian'"
      ]
    },
    {
      "cell_type": "code",
      "execution_count": null,
      "metadata": {
        "colab": {
          "base_uri": "https://localhost:8080/",
          "height": 35
        },
        "id": "Cwh8hOnOEPLO",
        "outputId": "192dd9ca-a8ac-4002-fb1e-661bc92c5db1"
      },
      "outputs": [
        {
          "data": {
            "application/vnd.google.colaboratory.intrinsic+json": {
              "type": "string"
            },
            "text/plain": [
              "'Marian'"
            ]
          },
          "execution_count": 14,
          "metadata": {},
          "output_type": "execute_result"
        }
      ],
      "source": [
        "nombre"
      ]
    },
    {
      "cell_type": "code",
      "execution_count": null,
      "metadata": {
        "colab": {
          "base_uri": "https://localhost:8080/"
        },
        "id": "EHBLIPOqEWC7",
        "outputId": "903196bd-01e5-4afe-9860-571d78a945d1"
      },
      "outputs": [
        {
          "data": {
            "text/plain": [
              "19"
            ]
          },
          "execution_count": 15,
          "metadata": {},
          "output_type": "execute_result"
        }
      ],
      "source": [
        "edad = 19\n",
        "edad"
      ]
    },
    {
      "cell_type": "code",
      "execution_count": null,
      "metadata": {
        "colab": {
          "base_uri": "https://localhost:8080/"
        },
        "id": "U8YLGX30EuMI",
        "outputId": "53d57235-fd34-4f78-ea31-601fe59a13dc"
      },
      "outputs": [
        {
          "name": "stdout",
          "output_type": "stream",
          "text": [
            "El nombre es Marian y su edad es 19 años.\n"
          ]
        }
      ],
      "source": [
        "print(f'El nombre es {nombre} y su edad es {edad} años.')"
      ]
    },
    {
      "cell_type": "code",
      "execution_count": null,
      "metadata": {
        "id": "6kyAJYxiFkyu"
      },
      "outputs": [],
      "source": [
        "edad = 35\n"
      ]
    },
    {
      "cell_type": "code",
      "execution_count": null,
      "metadata": {
        "colab": {
          "base_uri": "https://localhost:8080/"
        },
        "id": "sy3p2woZGQhL",
        "outputId": "0f64ddb6-2657-41b8-c185-ae72b63384a7"
      },
      "outputs": [
        {
          "name": "stdout",
          "output_type": "stream",
          "text": [
            "El nombre es Marian y edad es 35 años. \n"
          ]
        }
      ],
      "source": [
        "print(f'El nombre es {nombre} y edad es {edad} años. ')\n"
      ]
    },
    {
      "cell_type": "markdown",
      "metadata": {
        "id": "Q6Hy8kvWG8hC"
      },
      "source": [
        "Creando Mi Primera Funcion"
      ]
    },
    {
      "cell_type": "code",
      "execution_count": null,
      "metadata": {
        "id": "uUXckjjaHGYf"
      },
      "outputs": [],
      "source": [
        "def saludos():\n",
        "  nombre = input('¿Cual es su nombre?')\n",
        "  print(f'Hola {nombre}')"
      ]
    },
    {
      "cell_type": "code",
      "execution_count": null,
      "metadata": {
        "colab": {
          "base_uri": "https://localhost:8080/"
        },
        "id": "S6IK7u5_HvJr",
        "outputId": "ed535e73-47a7-4441-cae9-d886b7300bf8"
      },
      "outputs": [
        {
          "name": "stdout",
          "output_type": "stream",
          "text": [
            "¿Cual es su nombre?Yamil Mono Nokamina\n",
            "Hola Yamil Mono Nokamina\n"
          ]
        }
      ],
      "source": [
        "saludos()"
      ]
    },
    {
      "cell_type": "markdown",
      "metadata": {
        "id": "EwZxEftIIPlm"
      },
      "source": [
        "Parametros\n"
      ]
    },
    {
      "cell_type": "code",
      "execution_count": null,
      "metadata": {
        "id": "dvMu8Kg0IT7_"
      },
      "outputs": [],
      "source": [
        "nombre = 'Juan'"
      ]
    },
    {
      "cell_type": "code",
      "execution_count": null,
      "metadata": {
        "id": "7Vsk3IMKIdkP"
      },
      "outputs": [],
      "source": [
        "def saludos_con_parametros(nombre_de_la_persona):\n",
        "  print(f'Hola {nombre_de_la_persona}')"
      ]
    },
    {
      "cell_type": "code",
      "execution_count": null,
      "metadata": {
        "colab": {
          "base_uri": "https://localhost:8080/"
        },
        "id": "YEuDeRQ6JD3C",
        "outputId": "1a1e6aa7-8476-4e0c-9e07-c439bc95fd96"
      },
      "outputs": [
        {
          "name": "stdout",
          "output_type": "stream",
          "text": [
            "Hola Juan\n"
          ]
        }
      ],
      "source": [
        "saludos_con_parametros(nombre)"
      ]
    },
    {
      "cell_type": "markdown",
      "metadata": {
        "id": "zTJOgJgCJ5i2"
      },
      "source": [
        "Condicional\n"
      ]
    },
    {
      "cell_type": "code",
      "execution_count": 23,
      "metadata": {
        "colab": {
          "base_uri": "https://localhost:8080/"
        },
        "id": "xdEY6pAyJ8Nw",
        "outputId": "9415c6d5-f000-47a7-ca97-824c35f8abd8"
      },
      "outputs": [
        {
          "output_type": "stream",
          "name": "stdout",
          "text": [
            "Tiene Autorizacion para conducir\n"
          ]
        }
      ],
      "source": [
        "edad = 21\n",
        "def verifica_si_puede_conducir(edad):\n",
        "  if edad >= 18:\n",
        "    print('Tiene Autorizacion para conducir')\n",
        "  else:\n",
        "    print('No tiene Autorizacion para conducir')\n",
        "\n",
        "verifica_si_puede_conducir(edad)"
      ]
    },
    {
      "cell_type": "markdown",
      "metadata": {
        "id": "76IXmlqKK5i9"
      },
      "source": [
        "Convierte tipo entero\n"
      ]
    },
    {
      "cell_type": "code",
      "execution_count": 22,
      "metadata": {
        "id": "paPoQa76K9pf"
      },
      "outputs": [],
      "source": [
        "def verificar_si_puede_conducir_sin_parametros():\n",
        "  edad = input('¡cual es su Edad?')\n",
        "  edad = int(edad)\n",
        "  if edad >= 18:\n",
        "    print('Tiene autorizacion para conducir')\n",
        "  else:\n",
        "    print('No tiene autorizacion para conducir')\n",
        "\n",
        "  verificar_si_puede_conducir_sin_parametros()"
      ]
    },
    {
      "cell_type": "markdown",
      "source": [
        "Lista\n"
      ],
      "metadata": {
        "id": "0NqHvcO4MD_Y"
      }
    },
    {
      "cell_type": "code",
      "source": [
        "edad = 26 #blblababankn\n",
        "edad"
      ],
      "metadata": {
        "colab": {
          "base_uri": "https://localhost:8080/"
        },
        "id": "VnhH2CESMJve",
        "outputId": "67a29a7b-260d-4a88-af5a-e173e2e7d7e3"
      },
      "execution_count": null,
      "outputs": [
        {
          "output_type": "execute_result",
          "data": {
            "text/plain": [
              "26"
            ]
          },
          "metadata": {},
          "execution_count": 9
        }
      ]
    },
    {
      "cell_type": "code",
      "source": [
        "type(edad)"
      ],
      "metadata": {
        "colab": {
          "base_uri": "https://localhost:8080/"
        },
        "id": "8m1J2mUANT67",
        "outputId": "8744082a-d5f5-4230-d28f-04f0d78b0158"
      },
      "execution_count": null,
      "outputs": [
        {
          "output_type": "execute_result",
          "data": {
            "text/plain": [
              "int"
            ]
          },
          "metadata": {},
          "execution_count": 10
        }
      ]
    },
    {
      "cell_type": "code",
      "source": [
        "nombre = 'Mauricio'\n",
        "type(nombre)"
      ],
      "metadata": {
        "colab": {
          "base_uri": "https://localhost:8080/"
        },
        "id": "J_TrZHEuNqTj",
        "outputId": "dae04b53-8026-42fe-8d02-d98863d8e8b3"
      },
      "execution_count": null,
      "outputs": [
        {
          "output_type": "execute_result",
          "data": {
            "text/plain": [
              "str"
            ]
          },
          "metadata": {},
          "execution_count": 6
        }
      ]
    },
    {
      "cell_type": "code",
      "source": [
        "edades = [18, 22, 15, 50]\n",
        "type (edades)"
      ],
      "metadata": {
        "colab": {
          "base_uri": "https://localhost:8080/"
        },
        "id": "LpeIvrNANo6B",
        "outputId": "c43d20b5-7f8d-4a3c-ddca-1b5e59748466"
      },
      "execution_count": null,
      "outputs": [
        {
          "output_type": "execute_result",
          "data": {
            "text/plain": [
              "list"
            ]
          },
          "metadata": {},
          "execution_count": 11
        }
      ]
    },
    {
      "cell_type": "code",
      "source": [
        "edades[2]"
      ],
      "metadata": {
        "colab": {
          "base_uri": "https://localhost:8080/"
        },
        "id": "7J--JHzgQDi7",
        "outputId": "a95dc60e-e063-4185-9de7-a95609a31916"
      },
      "execution_count": null,
      "outputs": [
        {
          "output_type": "execute_result",
          "data": {
            "text/plain": [
              "15"
            ]
          },
          "metadata": {},
          "execution_count": 12
        }
      ]
    },
    {
      "cell_type": "code",
      "source": [
        "edades = [18, 22, 15, 50]\n",
        "#         0    1   2   3\n",
        "#         0   -3  -2  -1"
      ],
      "metadata": {
        "id": "YA2BpUQNQLMN"
      },
      "execution_count": 1,
      "outputs": []
    },
    {
      "cell_type": "code",
      "source": [
        "edades[1]"
      ],
      "metadata": {
        "colab": {
          "base_uri": "https://localhost:8080/"
        },
        "id": "HpTJJpmtQp88",
        "outputId": "d14cc728-6ecc-4a17-cc74-ff2c6a37d558"
      },
      "execution_count": 2,
      "outputs": [
        {
          "output_type": "execute_result",
          "data": {
            "text/plain": [
              "22"
            ]
          },
          "metadata": {},
          "execution_count": 2
        }
      ]
    },
    {
      "cell_type": "code",
      "source": [
        "edades[0:3]"
      ],
      "metadata": {
        "colab": {
          "base_uri": "https://localhost:8080/"
        },
        "id": "VlsXvzmHUTYp",
        "outputId": "2e587a2b-e2f5-434c-b591-fcaa4ee2e3b6"
      },
      "execution_count": 3,
      "outputs": [
        {
          "output_type": "execute_result",
          "data": {
            "text/plain": [
              "[18, 22, 15]"
            ]
          },
          "metadata": {},
          "execution_count": 3
        }
      ]
    },
    {
      "cell_type": "code",
      "source": [
        "def verificar_si_puede_conducir(edad):\n",
        "  if edad >= 18:\n",
        "    print(f'{edad} años de edad, Tiene autorizado para conduncir')\n",
        "  else:\n",
        "    print(f'{edad} años de edad, NO Tiene autorizado para conduncir')\n",
        "\n",
        "for edad in edades:\n",
        "  verificar_si_puede_conducir(edad)"
      ],
      "metadata": {
        "colab": {
          "base_uri": "https://localhost:8080/"
        },
        "id": "ldPt5SwFYEKf",
        "outputId": "8b343b46-eceb-455c-8969-bdde04fd0aab"
      },
      "execution_count": 5,
      "outputs": [
        {
          "output_type": "stream",
          "name": "stdout",
          "text": [
            "18 años de edad, Tiene autorizado para conduncir\n",
            "22 años de edad, Tiene autorizado para conduncir\n",
            "15 años de edad, NO Tiene autorizado para conduncir\n",
            "50 años de edad, Tiene autorizado para conduncir\n"
          ]
        }
      ]
    },
    {
      "cell_type": "code",
      "source": [
        "def verificar_si_puede_conducir(edad):\n",
        "  for edad in edades:\n",
        "    if edad >= 18:\n",
        "      print(f'{edad} años de edad, Tiene autorizado para conduncir')\n",
        "  else:\n",
        "    print(f'{edad} años de edad, NO Tiene autorizado para conduncir')\n",
        "\n",
        "verificar_si_puede_conducir(edad)\n"
      ],
      "metadata": {
        "colab": {
          "base_uri": "https://localhost:8080/"
        },
        "id": "3fqVE84xbpIC",
        "outputId": "be045d6b-c31d-452e-846a-29f396d4a3b9"
      },
      "execution_count": 6,
      "outputs": [
        {
          "output_type": "stream",
          "name": "stdout",
          "text": [
            "18 años de edad, Tiene autorizado para conduncir\n",
            "22 años de edad, Tiene autorizado para conduncir\n",
            "50 años de edad, Tiene autorizado para conduncir\n",
            "50 años de edad, NO Tiene autorizado para conduncir\n"
          ]
        }
      ]
    },
    {
      "cell_type": "markdown",
      "source": [
        "Booleano"
      ],
      "metadata": {
        "id": "wohBDS7PddQ1"
      }
    },
    {
      "cell_type": "code",
      "source": [
        "edad = 18\n",
        "edad >=18"
      ],
      "metadata": {
        "colab": {
          "base_uri": "https://localhost:8080/"
        },
        "id": "V5pZBpmVdhb3",
        "outputId": "17a47a8e-6d89-4fc5-c98e-0ccaf7191651"
      },
      "execution_count": 7,
      "outputs": [
        {
          "output_type": "execute_result",
          "data": {
            "text/plain": [
              "True"
            ]
          },
          "metadata": {},
          "execution_count": 7
        }
      ]
    },
    {
      "cell_type": "code",
      "source": [
        "edad = 15\n",
        "edad >= 18"
      ],
      "metadata": {
        "colab": {
          "base_uri": "https://localhost:8080/"
        },
        "id": "82xO7U9JdpGd",
        "outputId": "7c7d0d08-85ed-442e-b90e-6c497e0d44ad"
      },
      "execution_count": 9,
      "outputs": [
        {
          "output_type": "execute_result",
          "data": {
            "text/plain": [
              "False"
            ]
          },
          "metadata": {},
          "execution_count": 9
        }
      ]
    },
    {
      "cell_type": "code",
      "source": [
        "autorizaciones = []\n",
        "edades = [20, 14, 40]\n",
        "\n",
        "def verifica_si_puede_conducir(edades, autorizaciones):\n",
        "  for edad in edades:\n",
        "    if edad >= 18:\n",
        "     autorizaciones.append(True)\n",
        "    else:\n",
        "      autorizaciones.append(False)\n",
        "verifica_si_puede_conducir(edades,autorizaciones)"
      ],
      "metadata": {
        "id": "qnFdFuurd0PG"
      },
      "execution_count": 15,
      "outputs": []
    },
    {
      "cell_type": "code",
      "source": [
        "autorizaciones"
      ],
      "metadata": {
        "colab": {
          "base_uri": "https://localhost:8080/"
        },
        "id": "2GadzxlifAbw",
        "outputId": "468df97f-984f-4545-b7ce-159652dc1a92"
      },
      "execution_count": 17,
      "outputs": [
        {
          "output_type": "execute_result",
          "data": {
            "text/plain": [
              "[True, False, True]"
            ]
          },
          "metadata": {},
          "execution_count": 17
        }
      ]
    },
    {
      "cell_type": "markdown",
      "source": [
        "Tipos en una Lista"
      ],
      "metadata": {
        "id": "Dg2PrUQpg05n"
      }
    },
    {
      "cell_type": "code",
      "source": [
        "lista = ['Mauricio', 28, True, '18']\n",
        "for elemento in lista:\n",
        "  print(f'elemento {elemento} es del tipo', type(elemento))"
      ],
      "metadata": {
        "colab": {
          "base_uri": "https://localhost:8080/"
        },
        "id": "GTgk_cD_g6IX",
        "outputId": "909d0af4-ed42-46fc-ba8c-823b69d68f41"
      },
      "execution_count": 12,
      "outputs": [
        {
          "output_type": "stream",
          "name": "stdout",
          "text": [
            "elemento Mauricio es del tipo <class 'str'>\n",
            "elemento 28 es del tipo <class 'int'>\n",
            "elemento True es del tipo <class 'bool'>\n",
            "elemento 18 es del tipo <class 'str'>\n"
          ]
        }
      ]
    },
    {
      "cell_type": "markdown",
      "source": [
        "Import\n"
      ],
      "metadata": {
        "id": "-dhzwqlYhp5i"
      }
    },
    {
      "cell_type": "code",
      "source": [
        "from  random import randrange, seed"
      ],
      "metadata": {
        "id": "DwcCE1lThsBw"
      },
      "execution_count": 13,
      "outputs": []
    },
    {
      "cell_type": "code",
      "source": [
        "seed(11)"
      ],
      "metadata": {
        "id": "6dtUGFNxhzxU"
      },
      "execution_count": 14,
      "outputs": []
    }
  ],
  "metadata": {
    "colab": {
      "provenance": [],
      "authorship_tag": "ABX9TyOMoC5Vq7BYCt2HWjyd4LD/",
      "include_colab_link": true
    },
    "kernelspec": {
      "display_name": "Python 3",
      "name": "python3"
    },
    "language_info": {
      "name": "python"
    }
  },
  "nbformat": 4,
  "nbformat_minor": 0
}