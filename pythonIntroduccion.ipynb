{
  "cells": [
    {
      "cell_type": "markdown",
      "metadata": {
        "id": "view-in-github",
        "colab_type": "text"
      },
      "source": [
        "<a href=\"https://colab.research.google.com/github/jaac-punk/imt231/blob/main/pythonIntroduccion.ipynb\" target=\"_parent\"><img src=\"https://colab.research.google.com/assets/colab-badge.svg\" alt=\"Open In Colab\"/></a>"
      ]
    },
    {
      "cell_type": "markdown",
      "metadata": {
        "id": "LrFf6wnnCfDC"
      },
      "source": [
        "# Logica de prgramacion en Python"
      ]
    },
    {
      "cell_type": "code",
      "execution_count": null,
      "metadata": {
        "colab": {
          "base_uri": "https://localhost:8080/"
        },
        "id": "YKTq3opnCZBX",
        "outputId": "0f3e9b47-1244-479c-e6a5-cca29beac7f8"
      },
      "outputs": [
        {
          "data": {
            "text/plain": [
              "13"
            ]
          },
          "execution_count": 2,
          "metadata": {},
          "output_type": "execute_result"
        }
      ],
      "source": [
        "5+8"
      ]
    },
    {
      "cell_type": "code",
      "execution_count": null,
      "metadata": {
        "colab": {
          "base_uri": "https://localhost:8080/",
          "height": 139
        },
        "id": "Ih_AuZqXDGb3",
        "outputId": "b6bcacfa-f47e-458f-b4f1-daf762277d99"
      },
      "outputs": [
        {
          "ename": "NameError",
          "evalue": "name 'JAAC' is not defined",
          "output_type": "error",
          "traceback": [
            "\u001b[0;31m---------------------------------------------------------------------------\u001b[0m",
            "\u001b[0;31mNameError\u001b[0m                                 Traceback (most recent call last)",
            "\u001b[0;32m<ipython-input-5-503816d34df5>\u001b[0m in \u001b[0;36m<cell line: 1>\u001b[0;34m()\u001b[0m\n\u001b[0;32m----> 1\u001b[0;31m \u001b[0mJAAC\u001b[0m\u001b[0;34m\u001b[0m\u001b[0;34m\u001b[0m\u001b[0m\n\u001b[0m",
            "\u001b[0;31mNameError\u001b[0m: name 'JAAC' is not defined"
          ]
        }
      ],
      "source": [
        "JAAC"
      ]
    },
    {
      "cell_type": "code",
      "execution_count": null,
      "metadata": {
        "colab": {
          "base_uri": "https://localhost:8080/",
          "height": 35
        },
        "id": "wkCNqW6kDp9B",
        "outputId": "a0874394-2faa-41ad-fc1a-92c16b30935e"
      },
      "outputs": [
        {
          "data": {
            "application/vnd.google.colaboratory.intrinsic+json": {
              "type": "string"
            },
            "text/plain": [
              "'Jack'"
            ]
          },
          "execution_count": 6,
          "metadata": {},
          "output_type": "execute_result"
        }
      ],
      "source": [
        "'Jack'"
      ]
    },
    {
      "cell_type": "code",
      "execution_count": null,
      "metadata": {
        "id": "OeOEf50wD7o9"
      },
      "outputs": [],
      "source": [
        "nombre = 'Marian'"
      ]
    },
    {
      "cell_type": "code",
      "execution_count": null,
      "metadata": {
        "colab": {
          "base_uri": "https://localhost:8080/",
          "height": 35
        },
        "id": "Cwh8hOnOEPLO",
        "outputId": "192dd9ca-a8ac-4002-fb1e-661bc92c5db1"
      },
      "outputs": [
        {
          "data": {
            "application/vnd.google.colaboratory.intrinsic+json": {
              "type": "string"
            },
            "text/plain": [
              "'Marian'"
            ]
          },
          "execution_count": 14,
          "metadata": {},
          "output_type": "execute_result"
        }
      ],
      "source": [
        "nombre"
      ]
    },
    {
      "cell_type": "code",
      "execution_count": null,
      "metadata": {
        "colab": {
          "base_uri": "https://localhost:8080/"
        },
        "id": "EHBLIPOqEWC7",
        "outputId": "903196bd-01e5-4afe-9860-571d78a945d1"
      },
      "outputs": [
        {
          "data": {
            "text/plain": [
              "19"
            ]
          },
          "execution_count": 15,
          "metadata": {},
          "output_type": "execute_result"
        }
      ],
      "source": [
        "edad = 19\n",
        "edad"
      ]
    },
    {
      "cell_type": "code",
      "execution_count": null,
      "metadata": {
        "colab": {
          "base_uri": "https://localhost:8080/"
        },
        "id": "U8YLGX30EuMI",
        "outputId": "53d57235-fd34-4f78-ea31-601fe59a13dc"
      },
      "outputs": [
        {
          "name": "stdout",
          "output_type": "stream",
          "text": [
            "El nombre es Marian y su edad es 19 años.\n"
          ]
        }
      ],
      "source": [
        "print(f'El nombre es {nombre} y su edad es {edad} años.')"
      ]
    },
    {
      "cell_type": "code",
      "execution_count": null,
      "metadata": {
        "id": "6kyAJYxiFkyu"
      },
      "outputs": [],
      "source": [
        "edad = 35\n"
      ]
    },
    {
      "cell_type": "code",
      "execution_count": null,
      "metadata": {
        "colab": {
          "base_uri": "https://localhost:8080/"
        },
        "id": "sy3p2woZGQhL",
        "outputId": "0f64ddb6-2657-41b8-c185-ae72b63384a7"
      },
      "outputs": [
        {
          "name": "stdout",
          "output_type": "stream",
          "text": [
            "El nombre es Marian y edad es 35 años. \n"
          ]
        }
      ],
      "source": [
        "print(f'El nombre es {nombre} y edad es {edad} años. ')\n"
      ]
    },
    {
      "cell_type": "markdown",
      "metadata": {
        "id": "Q6Hy8kvWG8hC"
      },
      "source": [
        "Creando Mi Primera Funcion"
      ]
    },
    {
      "cell_type": "code",
      "execution_count": null,
      "metadata": {
        "id": "uUXckjjaHGYf"
      },
      "outputs": [],
      "source": [
        "def saludos():\n",
        "  nombre = input('¿Cual es su nombre?')\n",
        "  print(f'Hola {nombre}')"
      ]
    },
    {
      "cell_type": "code",
      "execution_count": null,
      "metadata": {
        "colab": {
          "base_uri": "https://localhost:8080/"
        },
        "id": "S6IK7u5_HvJr",
        "outputId": "ed535e73-47a7-4441-cae9-d886b7300bf8"
      },
      "outputs": [
        {
          "name": "stdout",
          "output_type": "stream",
          "text": [
            "¿Cual es su nombre?Yamil Mono Nokamina\n",
            "Hola Yamil Mono Nokamina\n"
          ]
        }
      ],
      "source": [
        "saludos()"
      ]
    },
    {
      "cell_type": "markdown",
      "metadata": {
        "id": "EwZxEftIIPlm"
      },
      "source": [
        "Parametros\n"
      ]
    },
    {
      "cell_type": "code",
      "execution_count": null,
      "metadata": {
        "id": "dvMu8Kg0IT7_"
      },
      "outputs": [],
      "source": [
        "nombre = 'Juan'"
      ]
    },
    {
      "cell_type": "code",
      "execution_count": null,
      "metadata": {
        "id": "7Vsk3IMKIdkP"
      },
      "outputs": [],
      "source": [
        "def saludos_con_parametros(nombre_de_la_persona):\n",
        "  print(f'Hola {nombre_de_la_persona}')"
      ]
    },
    {
      "cell_type": "code",
      "execution_count": null,
      "metadata": {
        "colab": {
          "base_uri": "https://localhost:8080/"
        },
        "id": "YEuDeRQ6JD3C",
        "outputId": "1a1e6aa7-8476-4e0c-9e07-c439bc95fd96"
      },
      "outputs": [
        {
          "name": "stdout",
          "output_type": "stream",
          "text": [
            "Hola Juan\n"
          ]
        }
      ],
      "source": [
        "saludos_con_parametros(nombre)"
      ]
    },
    {
      "cell_type": "markdown",
      "metadata": {
        "id": "zTJOgJgCJ5i2"
      },
      "source": [
        "Condicional\n"
      ]
    },
    {
      "cell_type": "code",
      "execution_count": null,
      "metadata": {
        "colab": {
          "base_uri": "https://localhost:8080/"
        },
        "id": "xdEY6pAyJ8Nw",
        "outputId": "9415c6d5-f000-47a7-ca97-824c35f8abd8"
      },
      "outputs": [
        {
          "name": "stdout",
          "output_type": "stream",
          "text": [
            "Tiene Autorizacion para conducir\n"
          ]
        }
      ],
      "source": [
        "edad = 21\n",
        "def verifica_si_puede_conducir(edad):\n",
        "  if edad >= 18:\n",
        "    print('Tiene Autorizacion para conducir')\n",
        "  else:\n",
        "    print('No tiene Autorizacion para conducir')\n",
        "\n",
        "verifica_si_puede_conducir(edad)"
      ]
    },
    {
      "cell_type": "markdown",
      "metadata": {
        "id": "76IXmlqKK5i9"
      },
      "source": [
        "Convierte tipo entero\n"
      ]
    },
    {
      "cell_type": "code",
      "execution_count": null,
      "metadata": {
        "id": "paPoQa76K9pf"
      },
      "outputs": [],
      "source": [
        "def verificar_si_puede_conducir_sin_parametros():\n",
        "  edad = input('¡cual es su Edad?')\n",
        "  edad = int(edad)\n",
        "  if edad >= 18:\n",
        "    print('Tiene autorizacion para conducir')\n",
        "  else:\n",
        "    print('No tiene autorizacion para conducir')\n",
        "\n",
        "  verificar_si_puede_conducir_sin_parametros()"
      ]
    },
    {
      "cell_type": "markdown",
      "metadata": {
        "id": "0NqHvcO4MD_Y"
      },
      "source": [
        "Lista\n"
      ]
    },
    {
      "cell_type": "code",
      "execution_count": null,
      "metadata": {
        "colab": {
          "base_uri": "https://localhost:8080/"
        },
        "id": "VnhH2CESMJve",
        "outputId": "67a29a7b-260d-4a88-af5a-e173e2e7d7e3"
      },
      "outputs": [
        {
          "data": {
            "text/plain": [
              "26"
            ]
          },
          "execution_count": 9,
          "metadata": {},
          "output_type": "execute_result"
        }
      ],
      "source": [
        "edad = 26 #blblababankn\n",
        "edad"
      ]
    },
    {
      "cell_type": "code",
      "execution_count": null,
      "metadata": {
        "colab": {
          "base_uri": "https://localhost:8080/"
        },
        "id": "8m1J2mUANT67",
        "outputId": "8744082a-d5f5-4230-d28f-04f0d78b0158"
      },
      "outputs": [
        {
          "data": {
            "text/plain": [
              "int"
            ]
          },
          "execution_count": 10,
          "metadata": {},
          "output_type": "execute_result"
        }
      ],
      "source": [
        "type(edad)"
      ]
    },
    {
      "cell_type": "code",
      "execution_count": null,
      "metadata": {
        "colab": {
          "base_uri": "https://localhost:8080/"
        },
        "id": "J_TrZHEuNqTj",
        "outputId": "dae04b53-8026-42fe-8d02-d98863d8e8b3"
      },
      "outputs": [
        {
          "data": {
            "text/plain": [
              "str"
            ]
          },
          "execution_count": 6,
          "metadata": {},
          "output_type": "execute_result"
        }
      ],
      "source": [
        "nombre = 'Mauricio'\n",
        "type(nombre)"
      ]
    },
    {
      "cell_type": "code",
      "execution_count": null,
      "metadata": {
        "colab": {
          "base_uri": "https://localhost:8080/"
        },
        "id": "LpeIvrNANo6B",
        "outputId": "c43d20b5-7f8d-4a3c-ddca-1b5e59748466"
      },
      "outputs": [
        {
          "data": {
            "text/plain": [
              "list"
            ]
          },
          "execution_count": 11,
          "metadata": {},
          "output_type": "execute_result"
        }
      ],
      "source": [
        "edades = [18, 22, 15, 50]\n",
        "type (edades)"
      ]
    },
    {
      "cell_type": "code",
      "execution_count": null,
      "metadata": {
        "colab": {
          "base_uri": "https://localhost:8080/"
        },
        "id": "7J--JHzgQDi7",
        "outputId": "a95dc60e-e063-4185-9de7-a95609a31916"
      },
      "outputs": [
        {
          "data": {
            "text/plain": [
              "15"
            ]
          },
          "execution_count": 12,
          "metadata": {},
          "output_type": "execute_result"
        }
      ],
      "source": [
        "edades[2]"
      ]
    },
    {
      "cell_type": "code",
      "execution_count": null,
      "metadata": {
        "id": "YA2BpUQNQLMN"
      },
      "outputs": [],
      "source": [
        "edades = [18, 22, 15, 50]\n",
        "#         0    1   2   3\n",
        "#         0   -3  -2  -1"
      ]
    },
    {
      "cell_type": "code",
      "execution_count": null,
      "metadata": {
        "colab": {
          "base_uri": "https://localhost:8080/"
        },
        "id": "HpTJJpmtQp88",
        "outputId": "d14cc728-6ecc-4a17-cc74-ff2c6a37d558"
      },
      "outputs": [
        {
          "data": {
            "text/plain": [
              "22"
            ]
          },
          "execution_count": 2,
          "metadata": {},
          "output_type": "execute_result"
        }
      ],
      "source": [
        "edades[1]"
      ]
    },
    {
      "cell_type": "code",
      "execution_count": null,
      "metadata": {
        "colab": {
          "base_uri": "https://localhost:8080/"
        },
        "id": "VlsXvzmHUTYp",
        "outputId": "2e587a2b-e2f5-434c-b591-fcaa4ee2e3b6"
      },
      "outputs": [
        {
          "data": {
            "text/plain": [
              "[18, 22, 15]"
            ]
          },
          "execution_count": 3,
          "metadata": {},
          "output_type": "execute_result"
        }
      ],
      "source": [
        "edades[0:3]"
      ]
    },
    {
      "cell_type": "code",
      "execution_count": null,
      "metadata": {
        "colab": {
          "base_uri": "https://localhost:8080/"
        },
        "id": "ldPt5SwFYEKf",
        "outputId": "8b343b46-eceb-455c-8969-bdde04fd0aab"
      },
      "outputs": [
        {
          "name": "stdout",
          "output_type": "stream",
          "text": [
            "18 años de edad, Tiene autorizado para conduncir\n",
            "22 años de edad, Tiene autorizado para conduncir\n",
            "15 años de edad, NO Tiene autorizado para conduncir\n",
            "50 años de edad, Tiene autorizado para conduncir\n"
          ]
        }
      ],
      "source": [
        "def verificar_si_puede_conducir(edad):\n",
        "  if edad >= 18:\n",
        "    print(f'{edad} años de edad, Tiene autorizado para conduncir')\n",
        "  else:\n",
        "    print(f'{edad} años de edad, NO Tiene autorizado para conduncir')\n",
        "\n",
        "for edad in edades:\n",
        "  verificar_si_puede_conducir(edad)"
      ]
    },
    {
      "cell_type": "code",
      "execution_count": null,
      "metadata": {
        "colab": {
          "base_uri": "https://localhost:8080/"
        },
        "id": "3fqVE84xbpIC",
        "outputId": "be045d6b-c31d-452e-846a-29f396d4a3b9"
      },
      "outputs": [
        {
          "name": "stdout",
          "output_type": "stream",
          "text": [
            "18 años de edad, Tiene autorizado para conduncir\n",
            "22 años de edad, Tiene autorizado para conduncir\n",
            "50 años de edad, Tiene autorizado para conduncir\n",
            "50 años de edad, NO Tiene autorizado para conduncir\n"
          ]
        }
      ],
      "source": [
        "def verificar_si_puede_conducir(edad):\n",
        "  for edad in edades:\n",
        "    if edad >= 18:\n",
        "      print(f'{edad} años de edad, Tiene autorizado para conduncir')\n",
        "  else:\n",
        "    print(f'{edad} años de edad, NO Tiene autorizado para conduncir')\n",
        "\n",
        "verificar_si_puede_conducir(edad)\n"
      ]
    },
    {
      "cell_type": "markdown",
      "metadata": {
        "id": "wohBDS7PddQ1"
      },
      "source": [
        "Booleano"
      ]
    },
    {
      "cell_type": "code",
      "execution_count": null,
      "metadata": {
        "colab": {
          "base_uri": "https://localhost:8080/"
        },
        "id": "V5pZBpmVdhb3",
        "outputId": "17a47a8e-6d89-4fc5-c98e-0ccaf7191651"
      },
      "outputs": [
        {
          "data": {
            "text/plain": [
              "True"
            ]
          },
          "execution_count": 7,
          "metadata": {},
          "output_type": "execute_result"
        }
      ],
      "source": [
        "edad = 18\n",
        "edad >=18"
      ]
    },
    {
      "cell_type": "code",
      "execution_count": null,
      "metadata": {
        "colab": {
          "base_uri": "https://localhost:8080/"
        },
        "id": "82xO7U9JdpGd",
        "outputId": "7c7d0d08-85ed-442e-b90e-6c497e0d44ad"
      },
      "outputs": [
        {
          "data": {
            "text/plain": [
              "False"
            ]
          },
          "execution_count": 9,
          "metadata": {},
          "output_type": "execute_result"
        }
      ],
      "source": [
        "edad = 15\n",
        "edad >= 18"
      ]
    },
    {
      "cell_type": "code",
      "execution_count": 19,
      "metadata": {
        "id": "qnFdFuurd0PG"
      },
      "outputs": [],
      "source": [
        "autorizaciones = []\n",
        "edades = [20, 14, 40]\n",
        "\n",
        "def verifica_si_puede_conducir(edades, autorizaciones):\n",
        "  for edad in edades:\n",
        "    if edad >=18:\n",
        "      autorizaciones.append(True)\n",
        "    else:\n",
        "      autorizaciones.append(False)\n",
        "verifica_si_puede_conducir(edades, autorizaciones)"
      ]
    },
    {
      "cell_type": "code",
      "execution_count": 20,
      "metadata": {
        "id": "2GadzxlifAbw",
        "colab": {
          "base_uri": "https://localhost:8080/"
        },
        "outputId": "c1491f7c-300f-4bac-baa9-926d6ab02738"
      },
      "outputs": [
        {
          "output_type": "execute_result",
          "data": {
            "text/plain": [
              "[True, False, True]"
            ]
          },
          "metadata": {},
          "execution_count": 20
        }
      ],
      "source": [
        "autorizaciones"
      ]
    }
  ],
  "metadata": {
    "colab": {
      "provenance": [],
      "authorship_tag": "ABX9TyNbAW7UhQnvDPJ0jaZxs5PX",
      "include_colab_link": true
    },
    "kernelspec": {
      "display_name": "Python 3",
      "name": "python3"
    },
    "language_info": {
      "name": "python"
    }
  },
  "nbformat": 4,
  "nbformat_minor": 0
}