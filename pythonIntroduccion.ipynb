{
  "nbformat": 4,
  "nbformat_minor": 0,
  "metadata": {
    "colab": {
      "provenance": [],
      "authorship_tag": "ABX9TyNsEAFx+fpA0SJin0FDy0CK",
      "include_colab_link": true
    },
    "kernelspec": {
      "name": "python3",
      "display_name": "Python 3"
    },
    "language_info": {
      "name": "python"
    }
  },
  "cells": [
    {
      "cell_type": "markdown",
      "metadata": {
        "id": "view-in-github",
        "colab_type": "text"
      },
      "source": [
        "<a href=\"https://colab.research.google.com/github/jaac-punk/imt231/blob/main/pythonIntroduccion.ipynb\" target=\"_parent\"><img src=\"https://colab.research.google.com/assets/colab-badge.svg\" alt=\"Open In Colab\"/></a>"
      ]
    },
    {
      "cell_type": "markdown",
      "source": [
        "# Logica de prgramacion en Python"
      ],
      "metadata": {
        "id": "LrFf6wnnCfDC"
      }
    },
    {
      "cell_type": "code",
      "execution_count": null,
      "metadata": {
        "colab": {
          "base_uri": "https://localhost:8080/"
        },
        "id": "YKTq3opnCZBX",
        "outputId": "0f3e9b47-1244-479c-e6a5-cca29beac7f8"
      },
      "outputs": [
        {
          "output_type": "execute_result",
          "data": {
            "text/plain": [
              "13"
            ]
          },
          "metadata": {},
          "execution_count": 2
        }
      ],
      "source": [
        "5+8"
      ]
    },
    {
      "cell_type": "code",
      "source": [
        "JAAC"
      ],
      "metadata": {
        "colab": {
          "base_uri": "https://localhost:8080/",
          "height": 139
        },
        "id": "Ih_AuZqXDGb3",
        "outputId": "b6bcacfa-f47e-458f-b4f1-daf762277d99"
      },
      "execution_count": null,
      "outputs": [
        {
          "output_type": "error",
          "ename": "NameError",
          "evalue": "name 'JAAC' is not defined",
          "traceback": [
            "\u001b[0;31m---------------------------------------------------------------------------\u001b[0m",
            "\u001b[0;31mNameError\u001b[0m                                 Traceback (most recent call last)",
            "\u001b[0;32m<ipython-input-5-503816d34df5>\u001b[0m in \u001b[0;36m<cell line: 1>\u001b[0;34m()\u001b[0m\n\u001b[0;32m----> 1\u001b[0;31m \u001b[0mJAAC\u001b[0m\u001b[0;34m\u001b[0m\u001b[0;34m\u001b[0m\u001b[0m\n\u001b[0m",
            "\u001b[0;31mNameError\u001b[0m: name 'JAAC' is not defined"
          ]
        }
      ]
    },
    {
      "cell_type": "code",
      "source": [
        "'Jack'"
      ],
      "metadata": {
        "colab": {
          "base_uri": "https://localhost:8080/",
          "height": 35
        },
        "id": "wkCNqW6kDp9B",
        "outputId": "a0874394-2faa-41ad-fc1a-92c16b30935e"
      },
      "execution_count": null,
      "outputs": [
        {
          "output_type": "execute_result",
          "data": {
            "text/plain": [
              "'Jack'"
            ],
            "application/vnd.google.colaboratory.intrinsic+json": {
              "type": "string"
            }
          },
          "metadata": {},
          "execution_count": 6
        }
      ]
    },
    {
      "cell_type": "code",
      "source": [
        "nombre = 'Marian'"
      ],
      "metadata": {
        "id": "OeOEf50wD7o9"
      },
      "execution_count": null,
      "outputs": []
    },
    {
      "cell_type": "code",
      "source": [
        "nombre"
      ],
      "metadata": {
        "colab": {
          "base_uri": "https://localhost:8080/",
          "height": 35
        },
        "id": "Cwh8hOnOEPLO",
        "outputId": "192dd9ca-a8ac-4002-fb1e-661bc92c5db1"
      },
      "execution_count": null,
      "outputs": [
        {
          "output_type": "execute_result",
          "data": {
            "text/plain": [
              "'Marian'"
            ],
            "application/vnd.google.colaboratory.intrinsic+json": {
              "type": "string"
            }
          },
          "metadata": {},
          "execution_count": 14
        }
      ]
    },
    {
      "cell_type": "code",
      "source": [
        "edad = 19\n",
        "edad"
      ],
      "metadata": {
        "colab": {
          "base_uri": "https://localhost:8080/"
        },
        "id": "EHBLIPOqEWC7",
        "outputId": "903196bd-01e5-4afe-9860-571d78a945d1"
      },
      "execution_count": null,
      "outputs": [
        {
          "output_type": "execute_result",
          "data": {
            "text/plain": [
              "19"
            ]
          },
          "metadata": {},
          "execution_count": 15
        }
      ]
    },
    {
      "cell_type": "code",
      "source": [
        "print(f'El nombre es {nombre} y su edad es {edad} años.')"
      ],
      "metadata": {
        "colab": {
          "base_uri": "https://localhost:8080/"
        },
        "id": "U8YLGX30EuMI",
        "outputId": "53d57235-fd34-4f78-ea31-601fe59a13dc"
      },
      "execution_count": null,
      "outputs": [
        {
          "output_type": "stream",
          "name": "stdout",
          "text": [
            "El nombre es Marian y su edad es 19 años.\n"
          ]
        }
      ]
    },
    {
      "cell_type": "code",
      "source": [
        "edad = 35\n"
      ],
      "metadata": {
        "id": "6kyAJYxiFkyu"
      },
      "execution_count": null,
      "outputs": []
    },
    {
      "cell_type": "code",
      "source": [
        "print(f'El nombre es {nombre} y edad es {edad} años. ')\n"
      ],
      "metadata": {
        "colab": {
          "base_uri": "https://localhost:8080/"
        },
        "id": "sy3p2woZGQhL",
        "outputId": "0f64ddb6-2657-41b8-c185-ae72b63384a7"
      },
      "execution_count": null,
      "outputs": [
        {
          "output_type": "stream",
          "name": "stdout",
          "text": [
            "El nombre es Marian y edad es 35 años. \n"
          ]
        }
      ]
    },
    {
      "cell_type": "markdown",
      "source": [
        "Creando Mi Primera Funcion"
      ],
      "metadata": {
        "id": "Q6Hy8kvWG8hC"
      }
    },
    {
      "cell_type": "code",
      "source": [
        "def saludos():\n",
        "  nombre = input('¿Cual es su nombre?')\n",
        "  print(f'Hola {nombre}')"
      ],
      "metadata": {
        "id": "uUXckjjaHGYf"
      },
      "execution_count": null,
      "outputs": []
    },
    {
      "cell_type": "code",
      "source": [
        "saludos()"
      ],
      "metadata": {
        "colab": {
          "base_uri": "https://localhost:8080/"
        },
        "id": "S6IK7u5_HvJr",
        "outputId": "ed535e73-47a7-4441-cae9-d886b7300bf8"
      },
      "execution_count": null,
      "outputs": [
        {
          "output_type": "stream",
          "name": "stdout",
          "text": [
            "¿Cual es su nombre?Yamil Mono Nokamina\n",
            "Hola Yamil Mono Nokamina\n"
          ]
        }
      ]
    },
    {
      "cell_type": "markdown",
      "source": [
        "Parametros\n"
      ],
      "metadata": {
        "id": "EwZxEftIIPlm"
      }
    },
    {
      "cell_type": "code",
      "source": [
        "nombre = 'Juan'"
      ],
      "metadata": {
        "id": "dvMu8Kg0IT7_"
      },
      "execution_count": null,
      "outputs": []
    },
    {
      "cell_type": "code",
      "source": [
        "def saludos_con_parametros(nombre_de_la_persona):\n",
        "  print(f'Hola {nombre_de_la_persona}')"
      ],
      "metadata": {
        "id": "7Vsk3IMKIdkP"
      },
      "execution_count": null,
      "outputs": []
    },
    {
      "cell_type": "code",
      "source": [
        "saludos_con_parametros(nombre)"
      ],
      "metadata": {
        "colab": {
          "base_uri": "https://localhost:8080/"
        },
        "id": "YEuDeRQ6JD3C",
        "outputId": "1a1e6aa7-8476-4e0c-9e07-c439bc95fd96"
      },
      "execution_count": null,
      "outputs": [
        {
          "output_type": "stream",
          "name": "stdout",
          "text": [
            "Hola Juan\n"
          ]
        }
      ]
    },
    {
      "cell_type": "markdown",
      "source": [
        "Condicional\n"
      ],
      "metadata": {
        "id": "zTJOgJgCJ5i2"
      }
    },
    {
      "cell_type": "code",
      "source": [
        "edad = 21\n",
        "def verifica_si_puede_conducir(edad):\n",
        "  if edad >= 18:\n",
        "    print('Tiene Autorizacion para conducir')\n",
        "  else:\n",
        "    print('No tiene Autorizacion para conducir')\n",
        "\n",
        "verificar_si_puede_conducir_sin_parametros()"
      ],
      "metadata": {
        "colab": {
          "base_uri": "https://localhost:8080/"
        },
        "id": "xdEY6pAyJ8Nw",
        "outputId": "6de5244e-3edc-4027-e287-be622bc33dca"
      },
      "execution_count": null,
      "outputs": [
        {
          "metadata": {
            "tags": null
          },
          "name": "stdout",
          "output_type": "stream",
          "text": [
            "Tiene autorizacion para conducir\n",
            "No tiene autorizacion para conducir\n",
            "Tiene autorizacion para conducir\n",
            "Tiene autorizacion para conducir\n"
          ]
        }
      ]
    },
    {
      "cell_type": "markdown",
      "source": [
        "Convierte tipo entero\n"
      ],
      "metadata": {
        "id": "76IXmlqKK5i9"
      }
    },
    {
      "cell_type": "code",
      "source": [
        "def verificar_si_puede_conducir_sin_parametros():\n",
        "  edad = input('¡cual es su Edad')\n",
        "  edad = int(edad)\n",
        "  if edad >= 18:\n",
        "    print('Tiene autorizacion para conducir')\n",
        "  else:\n",
        "      print('No tiene autorizacion para conducir')\n",
        "\n",
        "  verificar_si_puede_conducir_sin_parametros()"
      ],
      "metadata": {
        "id": "paPoQa76K9pf"
      },
      "execution_count": null,
      "outputs": []
    }
  ]
}